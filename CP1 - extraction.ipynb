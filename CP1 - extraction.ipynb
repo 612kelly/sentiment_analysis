{
 "cells": [
  {
   "cell_type": "code",
   "execution_count": 1,
   "id": "e82b1b88-8a5a-46a6-89d7-c72d0564d081",
   "metadata": {},
   "outputs": [],
   "source": [
    "from selenium.webdriver.common.by import By\n",
    "import pandas as pd\n",
    "import time"
   ]
  },
  {
   "cell_type": "code",
   "execution_count": 18,
   "id": "a1f16b91-508e-4b49-8d5e-061037358c23",
   "metadata": {},
   "outputs": [],
   "source": [
    "from selenium import webdriver\n",
    "from bs4 import BeautifulSoup\n",
    "from selenium.webdriver.common.by import By\n",
    "\n",
    "\n",
    "#driver = webdriver.Chrome()\n",
    "driver = webdriver.Firefox()\n",
    "\n",
    "#IKEA Damansara URL\n",
    "#url = 'https://www.google.com/maps/place/IKEA+Damansara/@3.1574832,101.613178,17z/data=!4m8!3m7!1s0x31cc4f92c5aaca75:0x23ff9ad0a4342afc!8m2!3d3.1574832!4d101.613178!9m1!1b1!16s%2Fg%2F11bx1yv497'\n",
    "\n",
    "#IKEA Batu Kawan URL\n",
    "url = 'https://www.google.com/maps/place/IKEA+Batu+Kawan/@5.2332172,100.4386354,17z/data=!4m8!3m7!1s0x304ab7f8c8d8febd:0x9b5254e29e148f89!8m2!3d5.2332172!4d100.4408241!9m1!1b1!16s%2Fg%2F11hyww6f7d?entry=ttu'\n",
    "\n",
    "\n",
    "driver.get(url)\n",
    "\n",
    "#time.sleep(5)"
   ]
  },
  {
   "cell_type": "code",
   "execution_count": 3,
   "id": "6dce06c1-8566-4f0b-a0a9-29fc8cae15d7",
   "metadata": {
    "tags": []
   },
   "outputs": [
    {
     "data": {
      "text/plain": [
       "'IKEA Batu Kawan - Google Maps'"
      ]
     },
     "execution_count": 3,
     "metadata": {},
     "output_type": "execute_result"
    }
   ],
   "source": [
    "driver.title"
   ]
  },
  {
   "cell_type": "code",
   "execution_count": 4,
   "id": "e81331c6-f5ca-4c3f-9893-4c1456e0b2d6",
   "metadata": {},
   "outputs": [],
   "source": [
    "ele = driver.find_element(By.XPATH,'//*[@id=\"QA0Szd\"]/div/div/div[1]/div[2]/div/div[1]/div/div/div[2]')\n",
    "# ele = driver.find_element(By.XPATH,'//*[@id=\"pane\"]/div/div[1]/div/div/div[2]')\n",
    "\n",
    "driver.execute_script('arguments[0].scrollBy(200,10000);', ele)\n",
    "# driver.execute_script('arguments[0].scrollTop = arguments[0].scrollHeight', \n",
    "#                 ele)\n",
    "\n",
    "# driver.execute_script(\"window.scrollTo(0,document.body.scrollHeight)\")"
   ]
  },
  {
   "cell_type": "code",
   "execution_count": 19,
   "id": "6c3d12d3-6f17-4afe-a2c9-93152053499e",
   "metadata": {},
   "outputs": [
    {
     "ename": "KeyboardInterrupt",
     "evalue": "",
     "output_type": "error",
     "traceback": [
      "\u001b[1;31m---------------------------------------------------------------------------\u001b[0m",
      "\u001b[1;31mKeyboardInterrupt\u001b[0m                         Traceback (most recent call last)",
      "Cell \u001b[1;32mIn[19], line 8\u001b[0m\n\u001b[0;32m      6\u001b[0m \u001b[38;5;28;01mfor\u001b[39;00m _ \u001b[38;5;129;01min\u001b[39;00m \u001b[38;5;28mrange\u001b[39m(\u001b[38;5;241m1000\u001b[39m):\n\u001b[0;32m      7\u001b[0m     actions\u001b[38;5;241m.\u001b[39msend_keys(Keys\u001b[38;5;241m.\u001b[39mSPACE)\u001b[38;5;241m.\u001b[39mperform()    \n\u001b[1;32m----> 8\u001b[0m     \u001b[43mtime\u001b[49m\u001b[38;5;241;43m.\u001b[39;49m\u001b[43msleep\u001b[49m\u001b[43m(\u001b[49m\u001b[38;5;241;43m3\u001b[39;49m\u001b[43m)\u001b[49m\n",
      "\u001b[1;31mKeyboardInterrupt\u001b[0m: "
     ]
    }
   ],
   "source": [
    "from selenium.webdriver.common.action_chains import ActionChains\n",
    "from selenium.webdriver.common.keys import Keys\n",
    "\n",
    "\n",
    "actions = ActionChains(driver)\n",
    "for _ in range(1000):\n",
    "    actions.send_keys(Keys.SPACE).perform()    \n",
    "    time.sleep(3)"
   ]
  },
  {
   "cell_type": "code",
   "execution_count": 20,
   "id": "0de08b1c-d0e2-4ee7-b4e9-b7d3402a78cf",
   "metadata": {
    "tags": []
   },
   "outputs": [],
   "source": [
    "count = 0\n",
    "for i in driver.find_elements(By.CSS_SELECTOR,\"button\"):\n",
    "    if i.text == \"More\":\n",
    "        i.click()\n",
    "        time.sleep(1.5)\n",
    "        count +=1\n",
    "        time.sleep(3)"
   ]
  },
  {
   "cell_type": "code",
   "execution_count": 10,
   "id": "1ea775d9-7335-47b4-91f1-965afd660520",
   "metadata": {},
   "outputs": [],
   "source": [
    "name_list = []\n",
    "stars_list = []\n",
    "review_list = []\n",
    "duration_list = []"
   ]
  },
  {
   "cell_type": "code",
   "execution_count": 23,
   "id": "06cbe1ac-358b-4148-8444-1dcb4d4bb13a",
   "metadata": {},
   "outputs": [
    {
     "name": "stdout",
     "output_type": "stream",
     "text": [
      "CPU times: total: 4.06 s\n",
      "Wall time: 26 s\n"
     ]
    }
   ],
   "source": [
    "%%time\n",
    "name_list = []\n",
    "stars_list = []\n",
    "review_list = []\n",
    "duration_list = []\n",
    "\n",
    "\n",
    "name = driver.find_elements(By.CLASS_NAME,\"d4r55\")\n",
    "stars = driver.find_elements(By.CLASS_NAME,\"kvMYJc\")\n",
    "review = driver.find_elements(By.CLASS_NAME,\"wiI7pd\")\n",
    "duration = driver.find_elements(By.CLASS_NAME,\"rsqaWe\")\n",
    "\n",
    "for j,k,l,p in zip(name,stars,review,duration):\n",
    "    name_list.append(j.text)\n",
    "    stars_list.append(k.get_attribute(\"aria-label\"))\n",
    "    review_list.append(l.text)\n",
    "    duration_list.append(p.text)"
   ]
  },
  {
   "cell_type": "code",
   "execution_count": 24,
   "id": "f5f93df6-c8c1-4fa2-884b-57fb31997150",
   "metadata": {},
   "outputs": [
    {
     "data": {
      "text/plain": [
       "1380"
      ]
     },
     "execution_count": 24,
     "metadata": {},
     "output_type": "execute_result"
    }
   ],
   "source": [
    "len(name)\n",
    "# driver.find_elements(By.CLASS_NAME,\"d4r55\")\n",
    "#name_list[-1]\n",
    "#review_list[-1]"
   ]
  },
  {
   "cell_type": "code",
   "execution_count": 25,
   "id": "e70f7202-bd0f-4ca1-ae68-bfd4bcf946e4",
   "metadata": {},
   "outputs": [
    {
     "data": {
      "text/plain": [
       "127"
      ]
     },
     "execution_count": 25,
     "metadata": {},
     "output_type": "execute_result"
    }
   ],
   "source": [
    "count"
   ]
  },
  {
   "cell_type": "code",
   "execution_count": 67,
   "id": "4427f40b-cd35-4d4e-8e38-8cc824acf825",
   "metadata": {},
   "outputs": [],
   "source": [
    "#response = BeautifulSoup(driver.page_source, 'html.parser')"
   ]
  },
  {
   "cell_type": "code",
   "execution_count": 68,
   "id": "b9bdaea9-0914-4de7-bb02-973f914c363d",
   "metadata": {
    "tags": []
   },
   "outputs": [],
   "source": [
    "#reviews = response.find_all('div', class_='MyEned')"
   ]
  },
  {
   "cell_type": "code",
   "execution_count": 26,
   "id": "abbec6fc-6842-42e8-8e2e-4ece28aaca53",
   "metadata": {},
   "outputs": [],
   "source": [
    "reviews = pd.DataFrame(\n",
    "    {'name': name_list,\n",
    "     'rating': stars_list,\n",
    "     'review': review_list,\n",
    "     'duration': duration_list})"
   ]
  },
  {
   "cell_type": "code",
   "execution_count": 30,
   "id": "e300f1b1-7f1e-4eaf-bd7a-5b52e32f9d9a",
   "metadata": {},
   "outputs": [
    {
     "name": "stdout",
     "output_type": "stream",
     "text": [
      "                 name   rating  \\\n",
      "0            Stefanie  4 stars   \n",
      "1            Eric Tan  5 stars   \n",
      "2       Kong Yong Foo  4 stars   \n",
      "3       Nabila Haslan  5 stars   \n",
      "4       Kai Yip Thong  4 stars   \n",
      "...               ...      ...   \n",
      "1375  Logeswary Gopal  3 stars   \n",
      "1376      Mimi Angler  5 stars   \n",
      "1377      Melvin Teoh  5 stars   \n",
      "1378      Jeffrey 出去玩  3 stars   \n",
      "1379          Wong Kh  5 stars   \n",
      "\n",
      "                                                 review      duration  \n",
      "0     Great location. Was a bit crowded even when th...  5 months ago  \n",
      "1     Worth the 1hr trip driving from island, big in...  8 months ago  \n",
      "2     After more than a year I revisit back to IKEA ...    a year ago  \n",
      "3     the best meatball! so fresh, juicy & delicious...  8 months ago  \n",
      "4     Plenty of home deco ideas and kids love to exp...  4 months ago  \n",
      "...                                                 ...           ...  \n",
      "1375  A lot variety of home furnishings item but ver...   2 years ago  \n",
      "1376                          Nice place and good staff    a year ago  \n",
      "1377                 Always waste money here nia... Sad   2 years ago  \n",
      "1378  Toilet are limit!!! Need to q if emergency...d...   3 years ago  \n",
      "1379  Convenient, in terms of shopping, eat, parking...   2 years ago  \n",
      "\n",
      "[1380 rows x 4 columns]\n"
     ]
    }
   ],
   "source": [
    "reviews.to_csv('ikea_batukawan_google.csv',index=False)\n",
    "print(reviews)"
   ]
  },
  {
   "cell_type": "code",
   "execution_count": 28,
   "id": "09836a79-d26d-462c-99a7-30286612f05e",
   "metadata": {},
   "outputs": [],
   "source": [
    "from csv import writer"
   ]
  },
  {
   "cell_type": "code",
   "execution_count": 29,
   "id": "bd79c3df-bc50-44d9-9e6e-9dfc04d579d9",
   "metadata": {},
   "outputs": [],
   "source": [
    "with open('ikea_batukawan_google.csv', 'a') as f_object:\n",
    " \n",
    "    # Pass this file object to csv.writer()\n",
    "    # and get a writer object\n",
    "    writer_object = writer(f_object)\n",
    " \n",
    "    # Pass the list as an argument into\n",
    "    # the writerow()\n",
    "    writer_object.writerow(reviews)\n",
    " \n",
    "    # Close the file object\n",
    "    f_object.close()"
   ]
  },
  {
   "cell_type": "code",
   "execution_count": 62,
   "id": "fe7d0844-d285-4229-a0db-55465443e784",
   "metadata": {},
   "outputs": [
    {
     "data": {
      "text/plain": [
       "bs4.element.ResultSet"
      ]
     },
     "execution_count": 62,
     "metadata": {},
     "output_type": "execute_result"
    }
   ],
   "source": [
    "type(reviews)"
   ]
  },
  {
   "cell_type": "code",
   "execution_count": 61,
   "id": "1bcfa561-a2ff-44f2-a9df-770946c5bc8d",
   "metadata": {},
   "outputs": [
    {
     "ename": "NameError",
     "evalue": "name 'np' is not defined",
     "output_type": "error",
     "traceback": [
      "\u001b[1;31m---------------------------------------------------------------------------\u001b[0m",
      "\u001b[1;31mNameError\u001b[0m                                 Traceback (most recent call last)",
      "Cell \u001b[1;32mIn[61], line 1\u001b[0m\n\u001b[1;32m----> 1\u001b[0m reviews \u001b[38;5;241m=\u001b[39m \u001b[43mnp\u001b[49m\u001b[38;5;241m.\u001b[39marray(reviews, dtype\u001b[38;5;241m=\u001b[39m\u001b[38;5;124m\"\u001b[39m\u001b[38;5;124mobject\u001b[39m\u001b[38;5;124m\"\u001b[39m)\n",
      "\u001b[1;31mNameError\u001b[0m: name 'np' is not defined"
     ]
    }
   ],
   "source": [
    "reviews = np.array(reviews, dtype=\"object\") "
   ]
  },
  {
   "cell_type": "code",
   "execution_count": 57,
   "id": "556d2aa0-985a-45ca-a430-6118fa5e60c8",
   "metadata": {},
   "outputs": [
    {
     "name": "stderr",
     "output_type": "stream",
     "text": [
      "C:\\Users\\User\\anaconda3\\lib\\site-packages\\pandas\\core\\internals\\construction.py:568: VisibleDeprecationWarning: Creating an ndarray from ragged nested sequences (which is a list-or-tuple of lists-or-tuples-or ndarrays with different lengths or shapes) is deprecated. If you meant to do this, you must specify 'dtype=object' when creating the ndarray.\n",
      "  values = np.array([convert(v) for v in values])\n"
     ]
    }
   ],
   "source": [
    "review = pd.DataFrame(reviews)"
   ]
  }
 ],
 "metadata": {
  "kernelspec": {
   "display_name": "Python 3 (ipykernel)",
   "language": "python",
   "name": "python3"
  },
  "language_info": {
   "codemirror_mode": {
    "name": "ipython",
    "version": 3
   },
   "file_extension": ".py",
   "mimetype": "text/x-python",
   "name": "python",
   "nbconvert_exporter": "python",
   "pygments_lexer": "ipython3",
   "version": "3.10.9"
  }
 },
 "nbformat": 4,
 "nbformat_minor": 5
}
